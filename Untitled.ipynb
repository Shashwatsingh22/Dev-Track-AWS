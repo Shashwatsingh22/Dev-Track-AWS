{
 "cells": [
  {
   "cell_type": "code",
   "execution_count": 1,
   "metadata": {},
   "outputs": [],
   "source": [
    "import boto3"
   ]
  },
  {
   "cell_type": "code",
   "execution_count": 3,
   "metadata": {},
   "outputs": [],
   "source": [
    "#This Line Will Automatically Connect to Aws to resource S3 by the AWS cli\n",
    "res=boto3.resource('s3')"
   ]
  },
  {
   "cell_type": "code",
   "execution_count": 5,
   "metadata": {
    "scrolled": true
   },
   "outputs": [
    {
     "data": {
      "text/plain": [
       "['Bucket',\n",
       " 'BucketAcl',\n",
       " 'BucketCors',\n",
       " 'BucketLifecycle',\n",
       " 'BucketLifecycleConfiguration',\n",
       " 'BucketLogging',\n",
       " 'BucketNotification',\n",
       " 'BucketPolicy',\n",
       " 'BucketRequestPayment',\n",
       " 'BucketTagging',\n",
       " 'BucketVersioning',\n",
       " 'BucketWebsite',\n",
       " 'MultipartUpload',\n",
       " 'MultipartUploadPart',\n",
       " 'Object',\n",
       " 'ObjectAcl',\n",
       " 'ObjectSummary',\n",
       " 'ObjectVersion',\n",
       " '__class__',\n",
       " '__delattr__',\n",
       " '__dict__',\n",
       " '__dir__',\n",
       " '__doc__',\n",
       " '__eq__',\n",
       " '__format__',\n",
       " '__ge__',\n",
       " '__getattribute__',\n",
       " '__gt__',\n",
       " '__hash__',\n",
       " '__init__',\n",
       " '__init_subclass__',\n",
       " '__le__',\n",
       " '__lt__',\n",
       " '__module__',\n",
       " '__ne__',\n",
       " '__new__',\n",
       " '__reduce__',\n",
       " '__reduce_ex__',\n",
       " '__repr__',\n",
       " '__setattr__',\n",
       " '__sizeof__',\n",
       " '__str__',\n",
       " '__subclasshook__',\n",
       " '__weakref__',\n",
       " 'buckets',\n",
       " 'create_bucket',\n",
       " 'get_available_subresources',\n",
       " 'meta']"
      ]
     },
     "execution_count": 5,
     "metadata": {},
     "output_type": "execute_result"
    }
   ],
   "source": [
    "#Create Bucket\n",
    "dir(res)"
   ]
  },
  {
   "cell_type": "code",
   "execution_count": 14,
   "metadata": {},
   "outputs": [],
   "source": [
    "bukName='my1a12'\n",
    "bucket = res.create_bucket(\n",
    "      ACL='private',\n",
    "      Bucket=bukName,\n",
    "      CreateBucketConfiguration={\n",
    "          'LocationConstraint': 'ap-south-1'\n",
    "      },)"
   ]
  },
  {
   "cell_type": "code",
   "execution_count": null,
   "metadata": {},
   "outputs": [],
   "source": []
  }
 ],
 "metadata": {
  "kernelspec": {
   "display_name": "Python 3",
   "language": "python",
   "name": "python3"
  },
  "language_info": {
   "codemirror_mode": {
    "name": "ipython",
    "version": 3
   },
   "file_extension": ".py",
   "mimetype": "text/x-python",
   "name": "python",
   "nbconvert_exporter": "python",
   "pygments_lexer": "ipython3",
   "version": "3.7.6"
  }
 },
 "nbformat": 4,
 "nbformat_minor": 4
}
