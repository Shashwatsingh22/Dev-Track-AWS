import boto3

#Lets Connect to S3 resources as Our Crendentials are already Managed By AWS cli so it will take the Credentials from there
res=boto3.resource('S3')

#Lets Creat An bUCKET
